{
 "cells": [
  {
   "cell_type": "code",
   "execution_count": null,
   "metadata": {},
   "outputs": [],
   "source": [
    "import numpy as np\n",
    "import tensorflow as tf\n",
    "from ConvPool_CNN_C import ConvPool_CNN\n",
    "from tensorflow.keras import datasets\n",
    "import time\n",
    "import matplotlib.pyplot as plt\n"
   ]
  },
  {
   "cell_type": "code",
   "execution_count": null,
   "metadata": {},
   "outputs": [],
   "source": [
    "#the path name represetn different configs\n",
    "#save the train and test error\n",
    "path = 'wnmobn'\n",
    "wnmobn_train_err = []\n",
    "wnmobn_test_err = []\n"
   ]
  },
  {
   "cell_type": "code",
   "execution_count": null,
   "metadata": {},
   "outputs": [],
   "source": [
    "#set random seed\n",
    "seed = 12345\n",
    "randgen = np.random.RandomState(seed)\n",
    "tf.set_random_seed(seed)\n"
   ]
  },
  {
   "cell_type": "code",
   "execution_count": null,
   "metadata": {},
   "outputs": [],
   "source": [
    "#get train, test data from cifar-10\n",
    "(X_train, y_train), (X_test, y_test) = datasets.cifar10.load_data()\n",
    "#apply normaliation to images\n",
    "X_train, X_test = X_train / 255.0, X_test / 255.0\n",
    "#make them 1d vector\n",
    "y_train = y_train.reshape(y_train.size)\n",
    "y_test = y_test.reshape(y_test.size)"
   ]
  },
  {
   "cell_type": "code",
   "execution_count": null,
   "metadata": {},
   "outputs": [],
   "source": [
    "#different batch size for train and test\n",
    "train_batch_size = int(X_train.shape[0] / batch_size)\n",
    "test_batch_size = int(X_test.shape[0] / batch_size)\n",
    "#the batchsize for initializatioon\n",
    "init_batch_size = 500\n",
    "# toal epochs that data pass through\n",
    "num_epochs = 200 \n",
    "# mini batch size\n",
    "batch_size = 100 "
   ]
  },
  {
   "cell_type": "code",
   "execution_count": null,
   "metadata": {},
   "outputs": [],
   "source": [
    "# indicators of using different normalizations\n",
    "use_WN,use_BN,use_MOBN=True,False,True\n",
    "if (use_WN  and use_BN ):\n",
    "    print(\"Cannot use weight norm and batch norm together\")\n",
    "    exit(0)\n",
    "if (use_BN  and use_MOBN ):\n",
    "    print(\"Cannot use mean-only batch norm and batch norm together\")\n",
    "    exit(0)\n",
    "\n",
    "#print out what normalization is used\n",
    "print('Use weight-normalization : ' + str(use_WN))\n",
    "print('Use batch-normalization : ' + str(use_BN))\n",
    "print('Use mean-only-batch-normalization: ' + str(use_MOBN))\n"
   ]
  },
  {
   "cell_type": "code",
   "execution_count": null,
   "metadata": {},
   "outputs": [],
   "source": [
    "#our model\n",
    "model = tf.make_template('CONVPool_model', ConvPool_CNN)\n",
    "\n",
    "#x is image y is label, x_init for initializtion\n",
    "x = tf.placeholder(tf.float32, shape=[batch_size, 32, 32, 3])\n",
    "y = tf.placeholder(tf.int32, shape=[batch_size])\n",
    "x_initialization = tf.placeholder(tf.float32, shape=[init_batch_size, 32, 32, 3])\n",
    "\n",
    "#model initialization\n",
    "initialize_model = model(x_initialization, drop_rate=0.5, is_test=False, init=True,use_WN=use_WN,use_BN=use_BN,use_MOBN=use_MOBN)\n",
    "#model training\n",
    "train_model = model(x, drop_rate=0.5, is_test=False, init=False,use_WN=use_WN,use_BN=use_BN,use_MOBN=use_MOBN)\n",
    "#train losee\n",
    "loss = tf.reduce_mean(tf.nn.sparse_softmax_cross_entropy_with_logits(labels=y, logits=train_model, name='cross_entropy'))\n",
    "#model testing\n",
    "test_model = model(x, drop_rate=0.5, is_test=True, init=False,use_WN=use_WN,use_BN=use_BN,use_MOBN=use_MOBN)\n",
    "#make predictions and calculate test error\n",
    "prediction = tf.argmax(test_model, axis=1, output_type=tf.int32)\n",
    "not_eq = tf.cast(tf.not_equal(prediction, y), tf.float32)\n",
    "test_error = tf.reduce_mean(not_eq)\n",
    "\n",
    "# using Adam optimizer, similar to the paper\n",
    "optimizer = tf.train.AdamOptimizer(0.001).minimize(loss)\n",
    "\n",
    "# save the model\n",
    "saver = tf.train.Saver()\n",
    "init_global_variables = tf.global_variables_initializer()\n"
   ]
  },
  {
   "cell_type": "code",
   "execution_count": null,
   "metadata": {},
   "outputs": [],
   "source": [
    "start = time.time()\n",
    "print('start time: ', time.time())\n",
    "with tf.Session() as sess:\n",
    "    sess.run(init_global_variables)\n",
    "    for epoch in range(num_epochs):\n",
    "        print('epochs: ', epoch)\n",
    "        #shuffle data\n",
    "        idx = randgen.permutation(X_train.shape[0])\n",
    "        X_train = X_train[idx]\n",
    "        y_train = y_train[idx]\n",
    "\n",
    "        #initialize the model in the first epoch\n",
    "        if epoch == 0:\n",
    "            sess.run(initialize_model, feed_dict={x_initialization: X_train[:init_batch_size]})\n",
    "            # shuffle  data\n",
    "            idx =randgen.permutation(X_train.shape[0])\n",
    "            X_train = X_train[idx]\n",
    "            y_train = y_train[idx]\n",
    "        #calculate train error\n",
    "        train_err = 0.\n",
    "        for t in range(train_batch_size):\n",
    "            feed_dict = {x: X_train[t * batch_size:(t + 1) * batch_size],\n",
    "                         y: y_train[t * batch_size:(t + 1) * batch_size]}\n",
    "            l, _ = sess.run([loss, optimizer], feed_dict=feed_dict)\n",
    "            train_err += l\n",
    "        train_err /= train_batch_size\n",
    "        wnmobn_train_err.append(train_err)\n",
    "        print('train error: ', train_err)\n",
    "\n",
    "        #calculate test error\n",
    "        test_err = 0.\n",
    "        for t in range(test_batch_size):\n",
    "            feed_dict = {x: X_test[t * batch_size:(t + 1) * batch_size], y: y_test[t * batch_size:(t + 1) * batch_size]}\n",
    "            test_error_out = sess.run(test_error, feed_dict=feed_dict)\n",
    "            test_err += test_error_out\n",
    "        test_err /= test_batch_size\n",
    "        wnmobn_test_err.append(test_err)\n",
    "        print('test error: ', test_err)\n",
    "        #save parameters\n",
    "    saved_path = saver.save(sess, './' + path + '/' + path + '_saved_variable')\n",
    "#show the training time\n",
    "print(time.time())\n",
    "train_time = time.time() - start\n",
    "print('train time: ', train_time)\n"
   ]
  },
  {
   "cell_type": "code",
   "execution_count": null,
   "metadata": {},
   "outputs": [],
   "source": [
    "#plot train and test error\n",
    "plt.plot(wnmobn_test_err, label='test error')\n",
    "plt.plot(wnmobn_train_err, label='train error')\n",
    "plt.legend()\n",
    "plt.show()"
   ]
  },
  {
   "cell_type": "code",
   "execution_count": null,
   "metadata": {},
   "outputs": [],
   "source": [
    "#save traintime ,train and test error in three files, they are all numpy array\n",
    "np.save('./' + path + '/' + path + '_test_err.npy', wnmobn_test_err)\n",
    "np.save('./' + path + '/' + path + '_train_err.npy', wnmobn_train_err)\n",
    "np.save('./' + path + '/' + path + '_train_time.npy', train_time)\n",
    "plt.savefig('./' + path + '/' + path + '_loss.png')"
   ]
  }
 ],
 "metadata": {
  "kernelspec": {
   "display_name": "Python 3",
   "language": "python",
   "name": "python3"
  },
  "language_info": {
   "codemirror_mode": {
    "name": "ipython",
    "version": 3
   },
   "file_extension": ".py",
   "mimetype": "text/x-python",
   "name": "python",
   "nbconvert_exporter": "python",
   "pygments_lexer": "ipython3",
   "version": "3.7.3"
  }
 },
 "nbformat": 4,
 "nbformat_minor": 2
}
